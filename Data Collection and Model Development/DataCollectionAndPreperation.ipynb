{
 "cells": [
  {
   "cell_type": "code",
   "id": "initial_id",
   "metadata": {
    "collapsed": true
   },
   "source": [
    "from chembl_webresource_client.new_client import new_client\n",
    "import pandas as pd"
   ],
   "outputs": [],
   "execution_count": null
  },
  {
   "cell_type": "code",
   "source": [
    "target = new_client.target\n",
    "p_name = input('Enter the name of your target:') # Target name will be EGFR\n",
    "print('Target name: %s' % p_name)\n",
    "target_query = target.search(p_name)\n",
    "targets = pd.DataFrame.from_dict(target_query)\n",
    "targets"
   ],
   "metadata": {
    "collapsed": false
   },
   "id": "a85d2156a70e59f0",
   "outputs": [],
   "execution_count": null
  },
  {
   "cell_type": "code",
   "source": [
    "selected_target = targets.target_chembl_id[3]\n",
    "selected_target"
   ],
   "metadata": {
    "collapsed": false
   },
   "id": "1778e6d81a70752",
   "outputs": [],
   "execution_count": null
  },
  {
   "cell_type": "code",
   "source": [
    "activity = new_client.activity\n",
    "activity_query = activity.filter(target_chembl_id=selected_target).filter(standard_type=\"IC50\")\n",
    "activities = pd.DataFrame.from_dict(activity_query)\n",
    "activities"
   ],
   "metadata": {
    "collapsed": false
   },
   "id": "439314cf92c4d5b1",
   "outputs": [],
   "execution_count": null
  },
  {
   "cell_type": "code",
   "source": [
    "list(activities.columns)"
   ],
   "metadata": {
    "collapsed": false
   },
   "id": "828251b899ea1644",
   "outputs": [],
   "execution_count": null
  },
  {
   "cell_type": "code",
   "source": [
    "activities = activities[activities.standard_value.notna()]\n",
    "activities = activities[activities.canonical_smiles.notna()]\n",
    "activities"
   ],
   "metadata": {
    "collapsed": false
   },
   "id": "40e0ebe0bc3f5252",
   "outputs": [],
   "execution_count": null
  },
  {
   "cell_type": "code",
   "source": [
    "activities = activities.drop_duplicates(['canonical_smiles'])\n",
    "activities"
   ],
   "metadata": {
    "collapsed": false
   },
   "id": "fcee1b32464bfc6a",
   "outputs": [],
   "execution_count": null
  },
  {
   "cell_type": "code",
   "source": [
    "imp_col = ['molecule_chembl_id', 'canonical_smiles', 'standard_value']\n",
    "activities = activities[imp_col]\n",
    "activities"
   ],
   "metadata": {
    "collapsed": false
   },
   "id": "6ed9f327f256076",
   "outputs": [],
   "execution_count": null
  },
  {
   "cell_type": "code",
   "source": [
    "activities_copy = activities.copy()\n",
    "\n",
    "activities_copy['standard_value'] = activities_copy['standard_value'].astype(float)\n",
    "\n",
    "activities_copy = activities_copy[~activities_copy['standard_value'].between(100, 1000)]\n",
    "\n",
    "threshold = []\n",
    "for i in activities_copy.standard_value:\n",
    "    if i >= 1000:\n",
    "        threshold.append('inactive')\n",
    "    else:\n",
    "        threshold.append('active')\n",
    "\n",
    "activities_copy.loc[:, 'class'] = threshold\n",
    "activities_copy"
   ],
   "metadata": {
    "collapsed": false
   },
   "id": "c907ea8dac8f4e4d",
   "outputs": [],
   "execution_count": null
  },
  {
   "cell_type": "code",
   "source": [
    "activities_copy.to_csv('EGFR_Data_Preprocessed.csv', index=False)"
   ],
   "metadata": {
    "collapsed": false
   },
   "id": "bf9d5cb2f9092ff5",
   "outputs": [],
   "execution_count": null
  },
  {
   "cell_type": "code",
   "source": [
    "activities_copy['canonical_smiles'].to_csv('EGFR_Data_Preprocessed_SMILES.csv', index=False)"
   ],
   "metadata": {
    "collapsed": false
   },
   "id": "6a525433e4cf2d68",
   "outputs": [],
   "execution_count": null
  }
 ],
 "metadata": {
  "kernelspec": {
   "display_name": "Python 3",
   "language": "python",
   "name": "python3"
  },
  "language_info": {
   "codemirror_mode": {
    "name": "ipython",
    "version": 2
   },
   "file_extension": ".py",
   "mimetype": "text/x-python",
   "name": "python",
   "nbconvert_exporter": "python",
   "pygments_lexer": "ipython2",
   "version": "2.7.6"
  }
 },
 "nbformat": 4,
 "nbformat_minor": 5
}

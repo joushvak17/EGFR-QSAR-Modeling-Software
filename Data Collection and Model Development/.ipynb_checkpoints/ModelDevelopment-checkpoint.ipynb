{
 "cells": [
  {
   "cell_type": "code",
   "id": "initial_id",
   "metadata": {
    "collapsed": true,
    "ExecuteTime": {
     "end_time": "2024-04-10T17:56:02.736126Z",
     "start_time": "2024-04-10T17:56:01.421146Z"
    }
   },
   "source": [
    "import pandas as pd\n",
    "from sklearn.preprocessing import LabelEncoder\n",
    "from sklearn.model_selection import train_test_split\n",
    "from xgboost import XGBClassifier\n",
    "from sklearn.metrics import classification_report\n",
    "# from joblib import dump"
   ],
   "outputs": [
    {
     "ename": "ModuleNotFoundError",
     "evalue": "No module named 'sklearn'",
     "output_type": "error",
     "traceback": [
      "\u001B[1;31m---------------------------------------------------------------------------\u001B[0m",
      "\u001B[1;31mModuleNotFoundError\u001B[0m                       Traceback (most recent call last)",
      "Cell \u001B[1;32mIn[1], line 2\u001B[0m\n\u001B[0;32m      1\u001B[0m \u001B[38;5;28;01mimport\u001B[39;00m \u001B[38;5;21;01mpandas\u001B[39;00m \u001B[38;5;28;01mas\u001B[39;00m \u001B[38;5;21;01mpd\u001B[39;00m\n\u001B[1;32m----> 2\u001B[0m \u001B[38;5;28;01mfrom\u001B[39;00m \u001B[38;5;21;01msklearn\u001B[39;00m\u001B[38;5;21;01m.\u001B[39;00m\u001B[38;5;21;01mpreprocessing\u001B[39;00m \u001B[38;5;28;01mimport\u001B[39;00m LabelEncoder\n\u001B[0;32m      3\u001B[0m \u001B[38;5;28;01mfrom\u001B[39;00m \u001B[38;5;21;01msklearn\u001B[39;00m\u001B[38;5;21;01m.\u001B[39;00m\u001B[38;5;21;01mmodel_selection\u001B[39;00m \u001B[38;5;28;01mimport\u001B[39;00m train_test_split\n\u001B[0;32m      4\u001B[0m \u001B[38;5;28;01mfrom\u001B[39;00m \u001B[38;5;21;01mxgboost\u001B[39;00m \u001B[38;5;28;01mimport\u001B[39;00m XGBClassifier\n",
      "\u001B[1;31mModuleNotFoundError\u001B[0m: No module named 'sklearn'"
     ]
    }
   ],
   "execution_count": 1
  },
  {
   "cell_type": "code",
   "source": [
    "df_data = pd.read_csv('EGFR_Feature_Extraction.csv')\n",
    "df_data.head()"
   ],
   "metadata": {
    "collapsed": false
   },
   "id": "bdc37447fd89d702",
   "outputs": [],
   "execution_count": null
  },
  {
   "cell_type": "code",
   "source": [
    "df = df_data.drop(df_data.columns[-2], axis=1, inplace=True)\n",
    "df = df_data.iloc[:, 2:]\n",
    "print(\"Null values: \" + str(df.isnull().values.any()))\n",
    "print(df['class'].value_counts())\n",
    "df.head()"
   ],
   "metadata": {
    "collapsed": false
   },
   "id": "1442e175339f0f5e",
   "outputs": [],
   "execution_count": null
  },
  {
   "cell_type": "code",
   "source": [
    "X = df.iloc[:, :-1]\n",
    "y = df.iloc[:, -1]"
   ],
   "metadata": {
    "collapsed": false
   },
   "id": "96c1bb5a9f2c644f",
   "outputs": [],
   "execution_count": null
  },
  {
   "cell_type": "code",
   "source": [
    "le = LabelEncoder()\n",
    "y = le.fit_transform(y)"
   ],
   "metadata": {
    "collapsed": false
   },
   "id": "c094cf710a787036",
   "outputs": [],
   "execution_count": null
  },
  {
   "cell_type": "code",
   "source": [
    "X_temp, X_test, y_temp, y_test = train_test_split(X, y, test_size=0.2, random_state=42)\n",
    "X_train, X_val, y_train, y_val = train_test_split(X_temp, y_temp, test_size=0.125, random_state=42)"
   ],
   "metadata": {
    "collapsed": false
   },
   "id": "622cf6c380f1542",
   "outputs": [],
   "execution_count": null
  },
  {
   "cell_type": "code",
   "source": [
    "# param_grid = {\n",
    "#     'n_estimators': [100, 200, 300],\n",
    "#     'max_depth': [3, 6, 10],\n",
    "#     'min_child_weight': [1, 5, 10],  \n",
    "#     'gamma': [0.5, 1, 1.5],  \n",
    "#     'subsample': [0.6, 0.8, 1.0],  \n",
    "#     'colsample_bytree': [0.6, 0.8, 1.0],  \n",
    "#     'reg_alpha': [1e-5, 1e-2, 0.1, 1],  \n",
    "#     'reg_lambda': [1e-5, 1e-2, 0.1, 1]  \n",
    "# }\n",
    "# \n",
    "# grid_model = XGBClassifier()\n",
    "# \n",
    "# grid = GridSearchCV(estimator=grid_model, param_grid=param_grid, scoring='accuracy', n_jobs=-1, cv=3)\n",
    "# \n",
    "# grid.fit(X_train, y_train)\n",
    "# \n",
    "# print(\"Best parameters found: \", grid.best_params_)\n",
    "# print(\"Best score found: \", grid.best_score_)"
   ],
   "metadata": {
    "collapsed": false
   },
   "id": "4cb684f9a02114e4",
   "outputs": [],
   "execution_count": null
  },
  {
   "cell_type": "code",
   "source": [
    "model = XGBClassifier()\n",
    "\n",
    "eval_set = [(X_train, y_train), (X_val, y_val)]\n",
    "\n",
    "model.fit(\n",
    "    X_train,\n",
    "    y_train,\n",
    "    eval_metric=[\"error\", \"logloss\"],\n",
    "    eval_set=eval_set,\n",
    "    early_stopping_rounds=10,\n",
    "    verbose=True\n",
    ")"
   ],
   "metadata": {
    "collapsed": false
   },
   "id": "96b90f3571012367",
   "outputs": [],
   "execution_count": null
  },
  {
   "cell_type": "code",
   "source": [
    "y_pred = model.predict(X_test)\n",
    "cr = classification_report(y_test, y_pred)\n",
    "print(cr)"
   ],
   "metadata": {
    "collapsed": false
   },
   "id": "5fefc84a2a237822",
   "outputs": [],
   "execution_count": null
  },
  {
   "cell_type": "code",
   "source": [
    "# results = model.evals_result()\n",
    "# \n",
    "# epochs = len(results['validation_0']['error'])\n",
    "# x_axis = range(0, epochs)\n",
    "# \n",
    "# fig, ax = plt.subplots()\n",
    "# ax.plot(x_axis, results['validation_0']['logloss'], label='Train')\n",
    "# ax.plot(x_axis, results['validation_1']['logloss'], label='Val')\n",
    "# ax.legend()\n",
    "# plt.ylabel('Log Loss')\n",
    "# plt.title('XGBoost Log Loss')\n",
    "# plt.show()"
   ],
   "metadata": {
    "collapsed": false
   },
   "id": "2f9bdb91ebbc725e",
   "outputs": [],
   "execution_count": null
  },
  {
   "cell_type": "code",
   "source": [
    "# y_val_pred = model.predict(X_val)\n",
    "# accuracy = accuracy_score(y_val, y_val_pred)\n",
    "# print(\"Validation Accuracy:\", accuracy)"
   ],
   "metadata": {
    "collapsed": false
   },
   "id": "e70eb793019c960f",
   "outputs": [],
   "execution_count": null
  },
  {
   "metadata": {},
   "cell_type": "code",
   "source": [
    "# saved_model = \"XGBClassifierEGFR.joblib\"\n",
    "# dump(model, saved_model)"
   ],
   "id": "3706d44c1ac5dcf7",
   "outputs": [],
   "execution_count": null
  }
 ],
 "metadata": {
  "kernelspec": {
   "display_name": "Python 3",
   "language": "python",
   "name": "python3"
  },
  "language_info": {
   "codemirror_mode": {
    "name": "ipython",
    "version": 2
   },
   "file_extension": ".py",
   "mimetype": "text/x-python",
   "name": "python",
   "nbconvert_exporter": "python",
   "pygments_lexer": "ipython2",
   "version": "2.7.6"
  }
 },
 "nbformat": 4,
 "nbformat_minor": 5
}

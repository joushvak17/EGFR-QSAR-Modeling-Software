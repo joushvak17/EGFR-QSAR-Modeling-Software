{
 "cells": [
  {
   "cell_type": "code",
   "id": "initial_id",
   "metadata": {
    "collapsed": true
   },
   "source": [
    "import pandas as pd\n",
    "from rdkit import Chem\n",
    "from rdkit.Chem import rdMolDescriptors as rdmd, GraphDescriptors, Descriptors, FindMolChiralCenters, Draw"
   ],
   "outputs": [],
   "execution_count": null
  },
  {
   "cell_type": "code",
   "source": [
    "df_data = pd.read_csv('EGFR_Data_Preprocessed.csv')\n",
    "df_data.head()"
   ],
   "metadata": {
    "collapsed": false
   },
   "id": "7f61d17574a93156",
   "outputs": [],
   "execution_count": null
  },
  {
   "cell_type": "code",
   "source": [
    "def descriptors(smiles_list):\n",
    "    mol_list = [Chem.MolFromSmiles(smiles) for smiles in smiles_list]\n",
    "\n",
    "    wiener_res = []\n",
    "    amat_list = [Chem.GetDistanceMatrix(mol) for mol in mol_list]\n",
    "    for i, mol in enumerate(mol_list):\n",
    "        res = 0\n",
    "        amat = amat_list[i]\n",
    "        num_atoms = mol.GetNumAtoms()\n",
    "        for j in range(num_atoms):\n",
    "            for k in range(j + 1, num_atoms):\n",
    "                res += amat[j][k]\n",
    "        wiener_res.append(res)\n",
    "\n",
    "    descriptor_data = {\n",
    "        # 2D Descriptors\n",
    "        'Molecular Weight': [Descriptors.ExactMolWt(mol) for mol in mol_list],\n",
    "        'Number of Rotatable Bonds': [Descriptors.NumRotatableBonds(mol) for mol in mol_list],\n",
    "        'Number of Atoms': [mol.GetNumAtoms() for mol in mol_list],\n",
    "        'Number of Bonds': [mol.GetNumBonds() for mol in mol_list],\n",
    "        'Count of Chiral Centers': [len(FindMolChiralCenters(mol, includeUnassigned=True)) for mol in mol_list],\n",
    "        'Number of Rings': [rdmd.CalcNumRings(mol) for mol in mol_list],\n",
    "        'Number of Aromatic Rings': [rdmd.CalcNumAromaticRings(mol) for mol in mol_list],\n",
    "        'Number of Hydrogen Bond Donors': [rdmd.CalcNumHBD(mol) for mol in mol_list],\n",
    "        'Number of Hydrogen Bond Acceptors': [rdmd.CalcNumHBA(mol) for mol in mol_list],\n",
    "        'Balaban J Index': [GraphDescriptors.BalabanJ(mol) for mol in mol_list],\n",
    "        'Wiener Index': wiener_res,\n",
    "        \n",
    "        # Physicochemical Descriptors\n",
    "        'LogP': [rdmd.CalcCrippenDescriptors(mol)[0] for mol in mol_list],\n",
    "        'TPSA': [rdmd.CalcTPSA(mol) for mol in mol_list],\n",
    "    }\n",
    "\n",
    "    descriptor_values = pd.DataFrame(descriptor_data)\n",
    "\n",
    "    return descriptor_values"
   ],
   "metadata": {
    "collapsed": false
   },
   "id": "6f1aa259d2442520",
   "outputs": [],
   "execution_count": null
  },
  {
   "cell_type": "code",
   "source": [
    "df_descriptors = descriptors(df_data.canonical_smiles)\n",
    "df_descriptors.head()"
   ],
   "metadata": {
    "collapsed": false
   },
   "id": "1c12fd2ce5abfd52",
   "outputs": [],
   "execution_count": null
  },
  {
   "cell_type": "code",
   "source": [
    "insert_after_column = 1\n",
    "\n",
    "df_data_before = df_data.iloc[:, :insert_after_column + 1]\n",
    "df_data_after = df_data.iloc[:, insert_after_column + 1:]\n",
    "df = pd.concat([df_data_before, df_descriptors, df_data_after], axis=1)\n",
    "df.head()"
   ],
   "metadata": {
    "collapsed": false
   },
   "id": "493476297a77ee92",
   "outputs": [],
   "execution_count": null
  },
  {
   "cell_type": "code",
   "source": [
    "df.to_csv('EGFR_Feature_Extraction.csv', index=False)"
   ],
   "metadata": {
    "collapsed": false
   },
   "id": "8cfe3bfb5044ad39",
   "outputs": [],
   "execution_count": null
  },
  {
   "metadata": {},
   "cell_type": "code",
   "source": [
    "image_mol = Chem.MolFromSmiles(df['canonical_smiles'][0])\n",
    "Draw.MolToImage(image_mol)"
   ],
   "id": "b43180471c784c2e",
   "outputs": [],
   "execution_count": null
  }
 ],
 "metadata": {
  "kernelspec": {
   "display_name": "Python 3",
   "language": "python",
   "name": "python3"
  },
  "language_info": {
   "codemirror_mode": {
    "name": "ipython",
    "version": 2
   },
   "file_extension": ".py",
   "mimetype": "text/x-python",
   "name": "python",
   "nbconvert_exporter": "python",
   "pygments_lexer": "ipython2",
   "version": "2.7.6"
  }
 },
 "nbformat": 4,
 "nbformat_minor": 5
}
